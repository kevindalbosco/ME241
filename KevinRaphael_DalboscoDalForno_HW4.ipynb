{
 "cells": [
  {
   "cell_type": "markdown",
   "metadata": {},
   "source": [
    "# Homework Assignment 4 - ME/MSE 241"
   ]
  },
  {
   "cell_type": "markdown",
   "metadata": {},
   "source": [
    "## Example"
   ]
  },
  {
   "cell_type": "code",
   "execution_count": null,
   "metadata": {},
   "outputs": [],
   "source": [
    "# Program to sum the first n numbers\n",
    "\n",
    "# Input\n",
    "n = 20\n",
    "\n",
    "# Accumulator for the sum\n",
    "sum_n = 0 # I'm avoiding sum as the identifier as that is a built-in function\n",
    "\n",
    "# Loop over the integer sequence 1..n\n",
    "for i in range(1,n+1):\n",
    "    sum_n += i**2\n",
    "\n",
    "# Print the sum\n",
    "print(f\"The sum of the first {n} positive integers = {sum_n}\")"
   ]
  },
  {
   "cell_type": "code",
   "execution_count": null,
   "metadata": {},
   "outputs": [],
   "source": [
    "# Using the formula for sum of first n squares\n",
    "print(f\"The sum of the first {n} positive integers = {int(n*(n+1)*(2*n+1)/6)}\")"
   ]
  },
  {
   "cell_type": "markdown",
   "metadata": {},
   "source": [
    "## Problem 1\n",
    "### Part 1a"
   ]
  },
  {
   "cell_type": "code",
   "execution_count": null,
   "metadata": {},
   "outputs": [],
   "source": [
    "a = input()\n",
    "b = \"\"\n",
    "for i in a:\n",
    "    b = i + b\n",
    "print(b)\n"
   ]
  },
  {
   "cell_type": "markdown",
   "metadata": {},
   "source": [
    "### Part 1b"
   ]
  },
  {
   "cell_type": "code",
   "execution_count": null,
   "metadata": {},
   "outputs": [],
   "source": [
    "a = (\"I'm gonna make him an offer he can't refuse.\").lower()\n",
    "\n",
    "str1 = \"\"\n",
    "\n",
    "for i in a.split(\" \"):\n",
    "    b = i[::-1]\n",
    "    str1 = str1 + b + \" \"\n",
    "print(str1)\n"
   ]
  },
  {
   "cell_type": "markdown",
   "metadata": {},
   "source": [
    "### Part 1c"
   ]
  },
  {
   "cell_type": "code",
   "execution_count": null,
   "metadata": {},
   "outputs": [],
   "source": [
    "row = int(input(\"Enter desired amount of rows: \"))\n",
    "\n",
    "for i in range (row):\n",
    "    print( \" \"*(row-i)+\" *\"*(i+1))\n",
    "\n",
    "for j in range (row-1):\n",
    "    print(\" \"*(j+2)+\" *\"*(row-1-j))"
   ]
  },
  {
   "cell_type": "markdown",
   "metadata": {},
   "source": [
    "## Problem 2\n",
    "### Part 2a"
   ]
  },
  {
   "cell_type": "code",
   "execution_count": null,
   "metadata": {},
   "outputs": [],
   "source": [
    "def factorial(n):\n",
    "    if n == 0:\n",
    "        return 1\n",
    "    else:\n",
    "        return n * factorial(n-1)\n",
    "n=int(input(\"Input a number to compute the factiorial : \"))\n",
    "print(factorial(n))"
   ]
  },
  {
   "cell_type": "markdown",
   "metadata": {},
   "source": [
    "### Part 2b"
   ]
  },
  {
   "cell_type": "code",
   "execution_count": null,
   "metadata": {},
   "outputs": [],
   "source": [
    "def convCels(n):\n",
    "    return (n*(9/5))+(32)\n",
    "\n",
    "TempDataC = [19,20,22,25,27,28,23,19,21,23]\n",
    "print(\" Idx    T (F)    T (C)\")\n",
    "print(\" ---    -----    -----\")\n",
    "\n",
    "t = 1\n",
    "s = 0\n",
    "sum = 0\n",
    "for i in TempDataC:\n",
    "    print(str(t).rjust(2),\"    \",\"%.2f\"%convCels(i),\"  \",\"%.2f\"%((i)))\n",
    "    t += 1\n",
    "    s += convCels(i)\n",
    "    sum += (i)\n",
    "    mean = sum/10\n",
    "\n",
    "print(\"---    -----    -----\")\n",
    "print(f\"Mean:  {s/10}\",\"   %.2f\"%mean)"
   ]
  },
  {
   "cell_type": "markdown",
   "metadata": {},
   "source": [
    "### Part 2c"
   ]
  },
  {
   "cell_type": "code",
   "execution_count": null,
   "metadata": {},
   "outputs": [],
   "source": [
    "def fibseq(n):\n",
    "    a = 0\n",
    "    b = 1\n",
    "    \n",
    "    if n == 1:\n",
    "        print(a)\n",
    "    \n",
    "    else:\n",
    "        print(a)\n",
    "        print(b)\n",
    "\n",
    "        for i in range (2,n):\n",
    "            c = a + b\n",
    "            a = b\n",
    "            b = c\n",
    "            print(c)\n",
    "\n",
    "            if i == 50:\n",
    "                phiapp = b/a\n",
    "                print(\"\\nThe ratio between the last elements is\", (phiapp), \"which is approximately equal to phi.\")\n",
    "fibseq(51)\n",
    "#print(\"The correspoding last element is\")"
   ]
  }
 ],
 "metadata": {
  "kernelspec": {
   "display_name": "Python 3.10.7 64-bit",
   "language": "python",
   "name": "python3"
  },
  "language_info": {
   "codemirror_mode": {
    "name": "ipython",
    "version": 3
   },
   "file_extension": ".py",
   "mimetype": "text/x-python",
   "name": "python",
   "nbconvert_exporter": "python",
   "pygments_lexer": "ipython3",
   "version": "3.10.7"
  },
  "orig_nbformat": 4,
  "vscode": {
   "interpreter": {
    "hash": "bd5508c2ffc7f17f7d31cf4086cc872f89e96996a08987e995649e5fbe85a3a4"
   }
  }
 },
 "nbformat": 4,
 "nbformat_minor": 2
}
