{
 "cells": [
  {
   "cell_type": "markdown",
   "metadata": {},
   "source": [
    "# Homework Assignment 4 - ME/MSE 241"
   ]
  },
  {
   "cell_type": "markdown",
   "metadata": {},
   "source": [
    "## Problem 1"
   ]
  },
  {
   "cell_type": "code",
   "execution_count": null,
   "metadata": {},
   "outputs": [],
   "source": [
    "#Adding both lists inside specified range.\n",
    "full_list = [*range(1,10,2)]+[*range(2,12,2)]\n",
    "\n",
    "#Printing out the full list\n",
    "list(full_list)"
   ]
  },
  {
   "cell_type": "markdown",
   "metadata": {},
   "source": [
    "## Problem 2"
   ]
  },
  {
   "cell_type": "code",
   "execution_count": null,
   "metadata": {},
   "outputs": [],
   "source": [
    "#User input for desired integer to be factored.\n",
    "inp_num = int(input(\"Please enter the integer you would like to factor: \"))\n",
    "\n",
    "fac_num = inp_num\n",
    "\n",
    "res_num = 1\n",
    "\n",
    "#Determining whether the given integer is either zero or negative.\n",
    "if inp_num < 0:\n",
    "    print(\"Cannot factor a negative number.\")\n",
    "elif inp_num == 0:\n",
    "    print(\"The factorial of 0 is 1.\")\n",
    "\n",
    "#While loop to calculate factorial if given integer is positive. \n",
    "else:\n",
    "    while inp_num > 0:\n",
    "        res_num = inp_num * res_num\n",
    "        inp_num = inp_num - 1\n",
    "    print(\"The factorial of\",fac_num,\"is:\", res_num)\n",
    "    "
   ]
  },
  {
   "cell_type": "markdown",
   "metadata": {},
   "source": [
    "## Problem 3"
   ]
  },
  {
   "cell_type": "markdown",
   "metadata": {},
   "source": [
    "### Part a)"
   ]
  },
  {
   "cell_type": "code",
   "execution_count": null,
   "metadata": {},
   "outputs": [],
   "source": [
    "#Empty list to later append subsequent lists.\n",
    "list_void = []\n",
    "\n",
    "#Outside for loop.\n",
    "for i in range(0,1):\n",
    "    \n",
    "    #Inner for loops to append lists in specified ranges.\n",
    "    one = []\n",
    "    for i in range(0,7):\n",
    "        one.append(0)\n",
    "    \n",
    "    #\\/ Appending lists into initial empty list.\n",
    "    list_void.append(one)\n",
    "    \n",
    "    two = []\n",
    "    for i in range(1,8):\n",
    "        two.append(i)\n",
    "    list_void.append(two)\n",
    "    \n",
    "    three = []\n",
    "    for i in range(2,15,2):\n",
    "        three.append(i)  \n",
    "    list_void.append(three)\n",
    "    \n",
    "    four = []\n",
    "    for i in range(3,22,3):\n",
    "        four.append(i)\n",
    "    list_void.append(four)\n",
    "    \n",
    "    five = []\n",
    "    for i in range(4,29,4):\n",
    "        five.append(i)\n",
    "    list_void.append(five)\n",
    "    \n",
    "#Print function for final list after all lists were added.\n",
    "print(list_void)"
   ]
  },
  {
   "cell_type": "markdown",
   "metadata": {},
   "source": [
    "### Part b)"
   ]
  },
  {
   "cell_type": "code",
   "execution_count": null,
   "metadata": {},
   "outputs": [],
   "source": [
    "#Input command for user to determine # of rows and columns\n",
    "print (\"Insert the number of rows and columns respectively: \")\n",
    "row = int(input())\n",
    "column = int(input())\n",
    "\n",
    "#User input command to add coefficients one by one.\n",
    "a, num_sum = [], 0\n",
    "print (\"\\nInsert the matrices coefficients one by one: \")\n",
    "\n",
    "#For loop to include coefficients into an empty list.\n",
    "for i in range (0, row):\n",
    "    a.append([])\n",
    "    for j in range (column):\n",
    "        a[i].append(int(input()))\n",
    "    print (end=\"\\n\")\n",
    "row_sum=[]\n",
    "\n",
    "#For loop to do row summation.\n",
    "for i in range (row):\n",
    "    for j in range (column):\n",
    "        num_sum = num_sum + a[i][j]\n",
    "    row_sum.append(num_sum)\n",
    "    num_sum = 0\n",
    "print(\"The sum of all row elements is:\",row_sum)\n",
    "print (end=\"\\n\")\n",
    "col_sum=[]\n",
    "num_sum = 0\n",
    "\n",
    "#For loop to do column summation.\n",
    "for j in range (column):\n",
    "    for i in range (row):\n",
    "        num_sum = num_sum + a[i][j]\n",
    "    col_sum.append(num_sum)\n",
    "    num_sum = 0\n",
    "print(\"The sum of all column elements is:\",col_sum)"
   ]
  },
  {
   "cell_type": "markdown",
   "metadata": {},
   "source": [
    "## Problem 4"
   ]
  },
  {
   "cell_type": "markdown",
   "metadata": {},
   "source": [
    "### Part a)"
   ]
  },
  {
   "cell_type": "code",
   "execution_count": null,
   "metadata": {},
   "outputs": [],
   "source": [
    "#User input command for numbers of terms to be used.\n",
    "term = int(input(\"Please insert the amount of terms for the summation: \"))\n",
    "final = 0\n",
    "\n",
    "#For loop for calculation.\n",
    "for i in range(term):\n",
    "    final = final + (1/(pow(2, i)))\n",
    "   \n",
    "print(final)"
   ]
  },
  {
   "cell_type": "markdown",
   "metadata": {},
   "source": [
    "### Part b)"
   ]
  },
  {
   "cell_type": "code",
   "execution_count": null,
   "metadata": {},
   "outputs": [],
   "source": [
    "#User input command for numbers of iterations to be produced.\n",
    "iter_n = int(input(\"Enter how many summation iterations you'd like to see: \"))\n",
    "\n",
    "#For loop for calculation.\n",
    "for i in range(1,iter_n+1):\n",
    "    final = 0\n",
    "    for j in range(i):\n",
    "        final = final + (1/pow(2, j))\n",
    "    print(final)"
   ]
  },
  {
   "cell_type": "markdown",
   "metadata": {},
   "source": [
    "## Problem 5"
   ]
  },
  {
   "cell_type": "code",
   "execution_count": null,
   "metadata": {},
   "outputs": [],
   "source": [
    "#User input command for string.\n",
    "user_inp = str(input(\"Please enter the desired string: \").lower())\n",
    "\n",
    "vowels = ['a', 'e', 'i', 'o', 'u']\n",
    "consonant = 0\n",
    "\n",
    "#For loop to determine whether \n",
    "for i in user_inp: \n",
    "\n",
    "   #If statement to determine whether the string contains vowels, if so, do nothing and proceed.\n",
    "   if i in vowels:\n",
    "      pass\n",
    "\n",
    "   #Else if statement to determine if the string contains characters between a and z, if so, add 1. \n",
    "   elif (i >= 'a' and i <= 'z'):\n",
    "      consonant += 1\n",
    "  \n",
    "         \n",
    "print(\"Consonant:\", consonant) \n"
   ]
  }
 ],
 "metadata": {
  "kernelspec": {
   "display_name": "Python 3.10.7 64-bit",
   "language": "python",
   "name": "python3"
  },
  "language_info": {
   "codemirror_mode": {
    "name": "ipython",
    "version": 3
   },
   "file_extension": ".py",
   "mimetype": "text/x-python",
   "name": "python",
   "nbconvert_exporter": "python",
   "pygments_lexer": "ipython3",
   "version": "3.10.7"
  },
  "orig_nbformat": 4,
  "vscode": {
   "interpreter": {
    "hash": "bd5508c2ffc7f17f7d31cf4086cc872f89e96996a08987e995649e5fbe85a3a4"
   }
  }
 },
 "nbformat": 4,
 "nbformat_minor": 2
}
