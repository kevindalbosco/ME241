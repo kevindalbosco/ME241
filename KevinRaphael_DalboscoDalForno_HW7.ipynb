{
 "cells": [
  {
   "cell_type": "markdown",
   "metadata": {},
   "source": [
    "# Homework Assignment 7 - ME/MSE 241"
   ]
  },
  {
   "cell_type": "markdown",
   "metadata": {},
   "source": [
    "## Problem #1"
   ]
  },
  {
   "cell_type": "code",
   "execution_count": 18,
   "metadata": {},
   "outputs": [
    {
     "data": {
      "text/plain": [
       "1.0"
      ]
     },
     "execution_count": 18,
     "metadata": {},
     "output_type": "execute_result"
    }
   ],
   "source": [
    "def harmonic_mean(*nums):\n",
    "    total=0\n",
    "    if not nums:\n",
    "        raise Exception('Input should be a non-zero number')\n",
    "    for i in nums:\n",
    "        if (type(i)==int or type(i)==float or type(i)==complex or type(i)==bool) and i!=0:\n",
    "            total=total+1/i\n",
    "        else:\n",
    "            raise Exception('Input should be a non-zero number')\n",
    "    return len(nums)/total\n",
    "\n",
    "#Functions for testing inputs.\n",
    "#harmonic_mean() \n",
    "#harmonic_mean(1, 1, 1)\n",
    "#harmonic_mean('1', 1, 1)\n",
    "#harmonic_mean(1, 0.2, -3.4, 9, 0.2j, False)\n",
    "#harmonic_mean(1, 0.2, -3.4, 9, 0.2j, True)"
   ]
  },
  {
   "cell_type": "markdown",
   "metadata": {},
   "source": [
    "## Problem #2"
   ]
  },
  {
   "cell_type": "code",
   "execution_count": 21,
   "metadata": {},
   "outputs": [
    {
     "data": {
      "text/plain": [
       "(0.5,)"
      ]
     },
     "execution_count": 21,
     "metadata": {},
     "output_type": "execute_result"
    }
   ],
   "source": [
    "def quadZeros(a,b,c):\n",
    "    if (type(a)!=float and type(a)!=int) or (type(b)!=float and type(b)!=int) or (type(c)!=float and type(c)!=int):\n",
    "        raise Exception('Input must be numeric')\n",
    "    if a==0 and b==0:\n",
    "        raise Exception('A and B should be non-zero numbers')\n",
    "    if a==0:\n",
    "        return (-c/b,)\n",
    "    d=b**2-4*a*c\n",
    "    if d==0:\n",
    "        return (-b/(2*a),)\n",
    "    return ((-b+d**(.5))/(2*a),(-b-d**(.5))/(2*a))\n",
    "\n",
    "#Functions for testing inputs.\n",
    "#quadZeros(0, 0, -1)\n",
    "#quadZeros(1, 0, -1)\n",
    "#quadZeros('1', 1, 1)\n",
    "#quadZeros(1, 2, 1)\n",
    "#quadZeros(0, 2, -1)"
   ]
  },
  {
   "cell_type": "markdown",
   "metadata": {},
   "source": [
    "## Problem #3"
   ]
  },
  {
   "cell_type": "code",
   "execution_count": null,
   "metadata": {},
   "outputs": [],
   "source": [
    "def myZip(*args):\n",
    "\n",
    "    try:\n",
    "        #Checks if inputs are iterable\n",
    "        for i in args:\n",
    "            iter(i) #Converting arguments into iterable\n",
    "    except TypeError:   #Exception if non iterable passes\n",
    "        print(\"Invalid argument passed\")\n",
    "        return None\n",
    "    \n",
    "    #Length of smallest iterable\n",
    "    minLength=len(args[0])\n",
    "    for i in args:\n",
    "        if len(i)<minLength:\n",
    "            minLength=len(i)\n",
    "    listOfTuples=[] #To store tuples\n",
    "    for i in range(minLength):\n",
    "        tup=()\n",
    "        for iterable in args:\n",
    "            tup = tup + (iterable[i],)\n",
    "        listOfTuples.append(tup)\n",
    "    return listOfTuples\n",
    "\n",
    "print(myZip('abc', [1,2,3,4],'ABC',12))\n",
    "print(myZip('abc', [1,2,3,4],'ABC'))"
   ]
  },
  {
   "cell_type": "markdown",
   "metadata": {},
   "source": [
    "## Problem #4"
   ]
  },
  {
   "cell_type": "code",
   "execution_count": null,
   "metadata": {},
   "outputs": [],
   "source": [
    "def intersection(iter1,iter2):\n",
    "    try:\n",
    "#Checking if arguments are iterable\n",
    "        iter(iter1) #Converting to iterable\n",
    "        iter(iter2)\n",
    "    except TypeError:   #Exception if non iterable is passed\n",
    "        print(\"Invalid argument passed\")\n",
    "        return None\n",
    "    intersect=[] #List to hold values\n",
    "\n",
    "    if len(iter1)<=len(iter2):\n",
    "        for i in range(len(iter1)):\n",
    "            if iter1[i] in iter2 and iter1[i] not in intersect:\n",
    "                intersect.append(iter1[i])\n",
    "    else:\n",
    "        for i in range(len(iter2)):\n",
    "            if iter2[i] in iter1 and iter2[i] not in intersect:\n",
    "                intersect.append(iter2[i])\n",
    "    return intersect\n",
    "\n",
    "\n",
    "print(intersection('abc','abf'))\n",
    "print(intersection([1,2,4,5],(1,2,3,9)))\n",
    "print(intersection([1,2,4,5],'123'))\n",
    "print(intersection('abc',12))"
   ]
  }
 ],
 "metadata": {
  "kernelspec": {
   "display_name": "Python 3.10.6 64-bit",
   "language": "python",
   "name": "python3"
  },
  "language_info": {
   "codemirror_mode": {
    "name": "ipython",
    "version": 3
   },
   "file_extension": ".py",
   "mimetype": "text/x-python",
   "name": "python",
   "nbconvert_exporter": "python",
   "pygments_lexer": "ipython3",
   "version": "3.10.6"
  },
  "orig_nbformat": 4,
  "vscode": {
   "interpreter": {
    "hash": "c63d8c7d738c2960218a10995aedf0a7f67a49a231e71037adf0440953cdb45b"
   }
  }
 },
 "nbformat": 4,
 "nbformat_minor": 2
}
