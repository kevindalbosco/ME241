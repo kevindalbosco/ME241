{
 "cells": [
  {
   "cell_type": "markdown",
   "metadata": {},
   "source": [
    "# Homework Assignment 8 - ME/MSE 241"
   ]
  },
  {
   "cell_type": "markdown",
   "metadata": {},
   "source": [
    "## Problem #1"
   ]
  },
  {
   "cell_type": "code",
   "execution_count": null,
   "metadata": {},
   "outputs": [],
   "source": [
    "class Complex:\n",
    "\tdef __init__(self, r, i):\n",
    "\t\tself.real = r\n",
    "\t\tself.imag = i\n",
    "\n",
    "\tdef __str__(self):\t# Return object representation in string format\n",
    "\t\tif self.imag >= 0:\n",
    "\t\t\treturn f'({self.real:.1f} + {self.imag:.1f}j)'\n",
    "\t\telse:\n",
    "\t\t\treturn f'({self.real:.1f} - {abs(self.imag):.1f}j)'\n",
    "\n",
    "\tdef __add__(self, o):\t# + Overloads\n",
    "\t\tif type(o) in [Complex, complex]:\n",
    "\t\t\treturn Complex(self.real + o.real, self.imag + o.imag)\n",
    "\t\telse:\n",
    "\t\t\treturn Complex(self.real + o, self.imag)\n",
    "\n",
    "\tdef __sub__(self, o):\t# - Overloads\n",
    "\t\tif type(o) in [Complex, complex]:\n",
    "\t\t\treturn Complex(self.real - o.real, self.imag - o.imag)\n",
    "\t\telse:\n",
    "\t\t\treturn Complex(self.real - o, self.imag)\n",
    "\n",
    "\tdef __mul__(self, o):\t# * Overloads\n",
    "\t\tif type(o) in [Complex, complex]:\n",
    "\t\t\treturn Complex(self.real * o.real - self.imag * o.imag, self.imag * o.real + self.real * o.imag)\n",
    "\t\telse:\n",
    "\t\t\treturn Complex(self.real * o, self.imag * o)\n",
    "\n",
    "\tdef __truediv__(self, o):\t# / Overloads\n",
    "\t\tif type(o) in [Complex, complex]:\n",
    "\t\t\tr = float(o.real ** 2 + o.imag ** 2)\n",
    "\t\t\treturn Complex((self.real * o.real + self.imag * o.imag) / r, (self.imag * o.real - self.real * o.imag)  / 2)\n",
    "\t\telse:\n",
    "\t\t\treturn Complex(self.real / o, self.imag / o)\n",
    "\n",
    "def main():\n",
    "\tc1 = Complex(2, 3)\n",
    "\tc2 = Complex(1, 1)\n",
    "\t\n",
    "\tprint(f'c1 = {c1}, c2 = {c2}')\n",
    "\tprint(f'{c1 + c2}')\n",
    "\tprint(f'{c1 + 3.2}')\n",
    "\tprint(f'{c2 + (4 + 2j)}')\n",
    "\tprint(f'{c1 - c2}')\n",
    "\tprint(f'{c1 - 3}')\n",
    "\tprint(f'{c1 * c2}')\n",
    "\tprint(f'{c1 * 3}')\n",
    "\tprint(f'{c2 * (4 + 2j)}')\n",
    "\tprint(f'{c1 / c2}')\n",
    "\tprint(f'{c1 / 2}')\n",
    "\tprint(f'{c2 / (4 + 2j)}')\n",
    "\n",
    "if __name__ == '__main__':\n",
    "\tmain()"
   ]
  },
  {
   "cell_type": "markdown",
   "metadata": {},
   "source": [
    "## Problem #2"
   ]
  },
  {
   "cell_type": "code",
   "execution_count": null,
   "metadata": {},
   "outputs": [],
   "source": [
    "class Vector:\n",
    "    \n",
    "    def __init__(self, x, y, z):\n",
    "        \n",
    "        self.x = x\n",
    "        self.y = y \n",
    "        self.z = z \n",
    "    \n",
    "        self.magnitude = (self.x**2 + self.y**2 + self.z**2)**0.5   # Computing length/magnitude\n",
    "        \n",
    "    def get_x(self): # Get x value\n",
    "        return self.x\n",
    "     \n",
    "    def get_y(self): # Get y value\n",
    "        return self.y\n",
    "    \n",
    "    def get_z(self): # Get z value\n",
    "        return self.z\n",
    "       \n",
    "    def get_magn(self):   # Get magnitude value\n",
    "        return self.magnitude\n",
    "    \n",
    "    def set_x(self, x):  # Set value of x \n",
    "        self.x = x\n",
    "    \n",
    "    def set_y(self, y):  # Set value of y\n",
    "        self.y = y \n",
    "        \n",
    "    def set_z(self, z):  # Set value of z\n",
    "        self.z = z \n",
    "    \n",
    "    def set_magn(self, magnitude):    # Set value of magnitude\n",
    "        self.magnitude = magnitude \n",
    "    \n",
    "    def __str__(self):  # Return vector representation str format\n",
    "        return 'Vector: (%.2f, %.2f, %.2f) \\nLength/Magnitude: %.2f\\n' %(self.x, self.y, self.z, self.magnitude)\n",
    "       \n",
    "    def dot(self, other):   # Defining dot product\n",
    "        return self.x * other.x + self.y * other.y + self.z * other.z \n",
    "      \n",
    "    def crossproduct(self, other):  # Defining cross product\n",
    "        x = self.y * other.z - other.y * self.z\n",
    "        y = other.x * self.z - self.x * other.z \n",
    "        z = self.x * other.y - other.x * self.y\n",
    "        \n",
    "        return Vector(x, y, z)\n",
    "        \n",
    "v1 = Vector(1, 2, 3)    # Vector #1 \n",
    "v2 = Vector(4, 5, 6)    # Vector #2\n",
    "\n",
    "print(v1)\n",
    "print(v2)\n",
    "\n",
    "product = v1.dot(v2)    # Find the dot product of v1 & v2\n",
    "v3 = v1.crossproduct(v2)    # Find the cross product of v1 & v2\n",
    "\n",
    "print('The dot product of vectors is:', product)\n",
    "print('\\nThe cross product of vectors is:')\n",
    "print(v3)"
   ]
  },
  {
   "cell_type": "markdown",
   "metadata": {},
   "source": [
    "## Problem #3"
   ]
  },
  {
   "cell_type": "code",
   "execution_count": null,
   "metadata": {},
   "outputs": [],
   "source": [
    "data = open(\"FacultyOffices.txt\",'r').read().splitlines()\n",
    "\n",
    "dict = {}\n",
    "\n",
    "for faculty in data:\n",
    "    name, office = faculty.split(\", \")\n",
    "    dict[name] = office\n",
    "\n",
    "print(dict)"
   ]
  },
  {
   "cell_type": "markdown",
   "metadata": {},
   "source": [
    "## Problem #4"
   ]
  },
  {
   "cell_type": "code",
   "execution_count": null,
   "metadata": {},
   "outputs": [],
   "source": [
    "import math\n",
    "\n",
    "file_name = 'TrigTable.txt'  # Naming file\n",
    "file_exp = open(file_name, 'w')   # Creating file \n",
    "\n",
    "# Defining file text format: \n",
    "col1, col2, col3, col4, col5 = 'Angle (rad)', 'Ang (deg)', 'Sin', 'Cos', 'Tan'  \n",
    "line = '{:>12}{:>15}{:>13}{:>15}{:>15}\\n'.format(col1,col2,col3,col4,col5)\n",
    "file_exp.write(line)\n",
    "col1, col2, col3, col4, col5 = '-----------', '---------', '---------', '---------', '---------'\n",
    "line = '{:>12}{:>15}{:>15}{:>15}{:>15}\\n'.format(col1,col2,col3,col4,col5)\n",
    "file_exp.write(line)\n",
    "\n",
    "# Computing individual values \n",
    "for degree in range(0,181,10):\n",
    "    radians = math.radians(degree)\n",
    "    sine = math.sin(radians)\n",
    "    cosine = math.cos(radians)\n",
    "    tangent = math.tan(radians) if degree != 90 else math.inf\n",
    "    line = (f'{radians:>11.4f}{degree:>15}{sine:>15.4f}{cosine:>15.4f}{tangent:>15.4f}\\n')\n",
    "    file_exp.write(line)\n",
    "\n",
    "file_exp.close()"
   ]
  }
 ],
 "metadata": {
  "kernelspec": {
   "display_name": "Python 3.10.7 64-bit",
   "language": "python",
   "name": "python3"
  },
  "language_info": {
   "codemirror_mode": {
    "name": "ipython",
    "version": 3
   },
   "file_extension": ".py",
   "mimetype": "text/x-python",
   "name": "python",
   "nbconvert_exporter": "python",
   "pygments_lexer": "ipython3",
   "version": "3.10.7"
  },
  "orig_nbformat": 4,
  "vscode": {
   "interpreter": {
    "hash": "bd5508c2ffc7f17f7d31cf4086cc872f89e96996a08987e995649e5fbe85a3a4"
   }
  }
 },
 "nbformat": 4,
 "nbformat_minor": 2
}
