{
 "cells": [
  {
   "cell_type": "markdown",
   "metadata": {},
   "source": [
    "# Homework Assignment 6 - ME/MSE 241"
   ]
  },
  {
   "cell_type": "markdown",
   "metadata": {},
   "source": [
    "## Problem #1"
   ]
  },
  {
   "cell_type": "code",
   "execution_count": null,
   "metadata": {},
   "outputs": [],
   "source": [
    "b_list = []\n",
    "ini_word = input(\"Enter a string to convert to a list of bytes: \")\n",
    "\n",
    "for i in ini_word:\n",
    "    b_list.append(ord(i))\n",
    "\n",
    "print(b_list)"
   ]
  },
  {
   "cell_type": "markdown",
   "metadata": {},
   "source": [
    "## Problem #2"
   ]
  },
  {
   "cell_type": "markdown",
   "metadata": {},
   "source": [
    "### a)"
   ]
  },
  {
   "cell_type": "code",
   "execution_count": null,
   "metadata": {},
   "outputs": [],
   "source": [
    "def myRangeFun(start, stop, step):\n",
    "    # Accumulator for the sequence of\n",
    "    # numbers to be generate\n",
    "    seq = []\n",
    "\n",
    "    # Loop to generate the sequence\n",
    "    nextVal = start\n",
    "    while True:\n",
    "        if nextVal <= stop:\n",
    "            break\n",
    "        seq.append(nextVal)\n",
    "        nextVal = nextVal + step\n",
    "    return seq\n",
    "\n",
    "myRangeFun(10, 0, -2)"
   ]
  },
  {
   "cell_type": "markdown",
   "metadata": {},
   "source": [
    "### b)"
   ]
  },
  {
   "cell_type": "code",
   "execution_count": null,
   "metadata": {},
   "outputs": [],
   "source": [
    "\n",
    "def myRangeFun(start, stop, step):\n",
    "    # Accumulator for the sequence of\n",
    "    # numbers to be generate\n",
    "    seq = []\n",
    "\n",
    "    # Loop to generate the sequence\n",
    "    nextVal = start\n",
    "    check = True\n",
    "\n",
    "    while True:\n",
    "        \n",
    "        #isinstance function to determine whether input is integer, if not, the loop is interrupted.\n",
    "        if check is True:\n",
    "            check = isinstance(nextVal,int)\n",
    "        else:\n",
    "            print('Not an integer')\n",
    "            return\n",
    "       \n",
    "        if nextVal <= stop:\n",
    "            break\n",
    "        seq.append(nextVal)\n",
    "        nextVal = nextVal + step\n",
    "    return seq\n",
    "\n",
    "myRangeFun(10, 0, -2)"
   ]
  },
  {
   "cell_type": "markdown",
   "metadata": {},
   "source": [
    "## Problem #3"
   ]
  },
  {
   "cell_type": "code",
   "execution_count": null,
   "metadata": {},
   "outputs": [],
   "source": [
    "userVal = input('Please enter an integer: ')\n",
    "\n",
    "listVal = []\n",
    "sum = 0\n",
    "value = {'0':0, '1':1, '2':2, '3':3, '4':4, '5':5, '6':6, '7':7, '8':8, '9':9}  #Dictionary to convert string digit into integer value. \n",
    "result = 0\n",
    "\n",
    "\n",
    "for i in userVal:\n",
    "    result = value[i]   #Assigning integer from dictionary to pre-defined variable \"result\". \n",
    "    listVal.append(result)  #Appending integer value into pre-defined empty list \"listVal\".\n",
    "\n",
    "for j in listVal:\n",
    "    sum = j + sum\n",
    "    \n",
    "print(listVal)\n",
    "print(sum)\n"
   ]
  },
  {
   "cell_type": "markdown",
   "metadata": {},
   "source": [
    "## Problem #4"
   ]
  },
  {
   "cell_type": "code",
   "execution_count": null,
   "metadata": {},
   "outputs": [],
   "source": [
    "n = int(input(\"Please enter an integer: \"))\n",
    "primeList = []\n",
    "\n",
    "\n",
    "for isPrime in range(2,n):\n",
    "\n",
    "    conPrime = True\n",
    "    for num in range(2, isPrime): #For loop to determine whether number is prime.\n",
    "        if isPrime % num == 0:\n",
    "            conPrime = False\n",
    "      \n",
    "    if conPrime:\n",
    "        primeList.append(isPrime)  #If loop to append prime number to list.\n",
    "\n",
    "print(primeList)"
   ]
  }
 ],
 "metadata": {
  "kernelspec": {
   "display_name": "Python 3.10.7 64-bit",
   "language": "python",
   "name": "python3"
  },
  "language_info": {
   "codemirror_mode": {
    "name": "ipython",
    "version": 3
   },
   "file_extension": ".py",
   "mimetype": "text/x-python",
   "name": "python",
   "nbconvert_exporter": "python",
   "pygments_lexer": "ipython3",
   "version": "3.10.7"
  },
  "orig_nbformat": 4,
  "vscode": {
   "interpreter": {
    "hash": "bd5508c2ffc7f17f7d31cf4086cc872f89e96996a08987e995649e5fbe85a3a4"
   }
  }
 },
 "nbformat": 4,
 "nbformat_minor": 2
}
